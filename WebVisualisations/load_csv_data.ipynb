{
 "metadata": {
  "language_info": {
   "codemirror_mode": {
    "name": "ipython",
    "version": 3
   },
   "file_extension": ".py",
   "mimetype": "text/x-python",
   "name": "python",
   "nbconvert_exporter": "python",
   "pygments_lexer": "ipython3",
   "version": "3.8.3-final"
  },
  "orig_nbformat": 2,
  "kernelspec": {
   "name": "python3",
   "display_name": "Python 3.8.3 64-bit (conda)",
   "metadata": {
    "interpreter": {
     "hash": "1967d762c769939a2291d44347683792873ab5f7dbb8a8895d3a32369559e71d"
    }
   }
  }
 },
 "nbformat": 4,
 "nbformat_minor": 2,
 "cells": [
  {
   "cell_type": "code",
   "execution_count": 1,
   "metadata": {},
   "outputs": [],
   "source": [
    "import pandas as pd \n",
    "from IPython.display import HTML"
   ]
  },
  {
   "cell_type": "code",
   "execution_count": 2,
   "metadata": {},
   "outputs": [
    {
     "output_type": "execute_result",
     "data": {
      "text/plain": [
       "   Unnamed: 0            City Country        Date  Latitude  Longitude  \\\n",
       "0           0     burlatskoye      RU  1612079537   45.0564    43.6350   \n",
       "1           1  saint-philippe      RE  1612079537  -21.3585    55.7679   \n",
       "2           2       busselton      AU  1612079537  -33.6500   115.3333   \n",
       "3           3        karratha      AU  1612079537  -20.7377   116.8463   \n",
       "4           4     balaipungut      ID  1612079538    1.0500   101.2833   \n",
       "\n",
       "   Max Temperature  Humidity  Cloudiness  Wind Speed  \n",
       "0             4.03        83         100        4.23  \n",
       "1            32.00        58           0       11.83  \n",
       "2            33.33        43           0        4.02  \n",
       "3            31.90        58         100        9.21  \n",
       "4            30.00        58          40        0.45  "
      ],
      "text/html": "<div>\n<style scoped>\n    .dataframe tbody tr th:only-of-type {\n        vertical-align: middle;\n    }\n\n    .dataframe tbody tr th {\n        vertical-align: top;\n    }\n\n    .dataframe thead th {\n        text-align: right;\n    }\n</style>\n<table border=\"1\" class=\"dataframe\">\n  <thead>\n    <tr style=\"text-align: right;\">\n      <th></th>\n      <th>Unnamed: 0</th>\n      <th>City</th>\n      <th>Country</th>\n      <th>Date</th>\n      <th>Latitude</th>\n      <th>Longitude</th>\n      <th>Max Temperature</th>\n      <th>Humidity</th>\n      <th>Cloudiness</th>\n      <th>Wind Speed</th>\n    </tr>\n  </thead>\n  <tbody>\n    <tr>\n      <th>0</th>\n      <td>0</td>\n      <td>burlatskoye</td>\n      <td>RU</td>\n      <td>1612079537</td>\n      <td>45.0564</td>\n      <td>43.6350</td>\n      <td>4.03</td>\n      <td>83</td>\n      <td>100</td>\n      <td>4.23</td>\n    </tr>\n    <tr>\n      <th>1</th>\n      <td>1</td>\n      <td>saint-philippe</td>\n      <td>RE</td>\n      <td>1612079537</td>\n      <td>-21.3585</td>\n      <td>55.7679</td>\n      <td>32.00</td>\n      <td>58</td>\n      <td>0</td>\n      <td>11.83</td>\n    </tr>\n    <tr>\n      <th>2</th>\n      <td>2</td>\n      <td>busselton</td>\n      <td>AU</td>\n      <td>1612079537</td>\n      <td>-33.6500</td>\n      <td>115.3333</td>\n      <td>33.33</td>\n      <td>43</td>\n      <td>0</td>\n      <td>4.02</td>\n    </tr>\n    <tr>\n      <th>3</th>\n      <td>3</td>\n      <td>karratha</td>\n      <td>AU</td>\n      <td>1612079537</td>\n      <td>-20.7377</td>\n      <td>116.8463</td>\n      <td>31.90</td>\n      <td>58</td>\n      <td>100</td>\n      <td>9.21</td>\n    </tr>\n    <tr>\n      <th>4</th>\n      <td>4</td>\n      <td>balaipungut</td>\n      <td>ID</td>\n      <td>1612079538</td>\n      <td>1.0500</td>\n      <td>101.2833</td>\n      <td>30.00</td>\n      <td>58</td>\n      <td>40</td>\n      <td>0.45</td>\n    </tr>\n  </tbody>\n</table>\n</div>"
     },
     "metadata": {},
     "execution_count": 2
    }
   ],
   "source": [
    "\n",
    "csv_path = \"Resources/city.csv\"\n",
    "\n",
    "cities_df = pd.read_csv(csv_path)\n",
    "cities_df.head()"
   ]
  },
  {
   "cell_type": "code",
   "execution_count": 3,
   "metadata": {},
   "outputs": [
    {
     "output_type": "execute_result",
     "data": {
      "text/plain": [
       "               City Country        Date  Latitude  Longitude  Max Temperature  \\\n",
       "0       burlatskoye      RU  1612079537   45.0564    43.6350             4.03   \n",
       "1    saint-philippe      RE  1612079537  -21.3585    55.7679            32.00   \n",
       "2         busselton      AU  1612079537  -33.6500   115.3333            33.33   \n",
       "3          karratha      AU  1612079537  -20.7377   116.8463            31.90   \n",
       "4       balaipungut      ID  1612079538    1.0500   101.2833            30.00   \n",
       "..              ...     ...         ...       ...        ...              ...   \n",
       "516        zyryanka      RU  1612079618   65.7500   150.8500           -32.76   \n",
       "517  vestmannaeyjar      IS  1612079618   63.4427   -20.2734            -0.75   \n",
       "518    cheremukhovo      RU  1612079618   60.3484    59.9851           -18.85   \n",
       "519         prieska      ZA  1612079618  -29.6641    22.7474            29.33   \n",
       "520            fria      GN  1612079618   10.4167   -13.5833            19.32   \n",
       "\n",
       "     Humidity  Cloudiness  Wind Speed  \n",
       "0          83         100        4.23  \n",
       "1          58           0       11.83  \n",
       "2          43           0        4.02  \n",
       "3          58         100        9.21  \n",
       "4          58          40        0.45  \n",
       "..        ...         ...         ...  \n",
       "516        84         100        7.51  \n",
       "517        92         100        7.51  \n",
       "518        91          97        1.16  \n",
       "519        13           0        2.59  \n",
       "520        80         100        0.84  \n",
       "\n",
       "[521 rows x 9 columns]"
      ],
      "text/html": "<div>\n<style scoped>\n    .dataframe tbody tr th:only-of-type {\n        vertical-align: middle;\n    }\n\n    .dataframe tbody tr th {\n        vertical-align: top;\n    }\n\n    .dataframe thead th {\n        text-align: right;\n    }\n</style>\n<table border=\"1\" class=\"dataframe\">\n  <thead>\n    <tr style=\"text-align: right;\">\n      <th></th>\n      <th>City</th>\n      <th>Country</th>\n      <th>Date</th>\n      <th>Latitude</th>\n      <th>Longitude</th>\n      <th>Max Temperature</th>\n      <th>Humidity</th>\n      <th>Cloudiness</th>\n      <th>Wind Speed</th>\n    </tr>\n  </thead>\n  <tbody>\n    <tr>\n      <th>0</th>\n      <td>burlatskoye</td>\n      <td>RU</td>\n      <td>1612079537</td>\n      <td>45.0564</td>\n      <td>43.6350</td>\n      <td>4.03</td>\n      <td>83</td>\n      <td>100</td>\n      <td>4.23</td>\n    </tr>\n    <tr>\n      <th>1</th>\n      <td>saint-philippe</td>\n      <td>RE</td>\n      <td>1612079537</td>\n      <td>-21.3585</td>\n      <td>55.7679</td>\n      <td>32.00</td>\n      <td>58</td>\n      <td>0</td>\n      <td>11.83</td>\n    </tr>\n    <tr>\n      <th>2</th>\n      <td>busselton</td>\n      <td>AU</td>\n      <td>1612079537</td>\n      <td>-33.6500</td>\n      <td>115.3333</td>\n      <td>33.33</td>\n      <td>43</td>\n      <td>0</td>\n      <td>4.02</td>\n    </tr>\n    <tr>\n      <th>3</th>\n      <td>karratha</td>\n      <td>AU</td>\n      <td>1612079537</td>\n      <td>-20.7377</td>\n      <td>116.8463</td>\n      <td>31.90</td>\n      <td>58</td>\n      <td>100</td>\n      <td>9.21</td>\n    </tr>\n    <tr>\n      <th>4</th>\n      <td>balaipungut</td>\n      <td>ID</td>\n      <td>1612079538</td>\n      <td>1.0500</td>\n      <td>101.2833</td>\n      <td>30.00</td>\n      <td>58</td>\n      <td>40</td>\n      <td>0.45</td>\n    </tr>\n    <tr>\n      <th>...</th>\n      <td>...</td>\n      <td>...</td>\n      <td>...</td>\n      <td>...</td>\n      <td>...</td>\n      <td>...</td>\n      <td>...</td>\n      <td>...</td>\n      <td>...</td>\n    </tr>\n    <tr>\n      <th>516</th>\n      <td>zyryanka</td>\n      <td>RU</td>\n      <td>1612079618</td>\n      <td>65.7500</td>\n      <td>150.8500</td>\n      <td>-32.76</td>\n      <td>84</td>\n      <td>100</td>\n      <td>7.51</td>\n    </tr>\n    <tr>\n      <th>517</th>\n      <td>vestmannaeyjar</td>\n      <td>IS</td>\n      <td>1612079618</td>\n      <td>63.4427</td>\n      <td>-20.2734</td>\n      <td>-0.75</td>\n      <td>92</td>\n      <td>100</td>\n      <td>7.51</td>\n    </tr>\n    <tr>\n      <th>518</th>\n      <td>cheremukhovo</td>\n      <td>RU</td>\n      <td>1612079618</td>\n      <td>60.3484</td>\n      <td>59.9851</td>\n      <td>-18.85</td>\n      <td>91</td>\n      <td>97</td>\n      <td>1.16</td>\n    </tr>\n    <tr>\n      <th>519</th>\n      <td>prieska</td>\n      <td>ZA</td>\n      <td>1612079618</td>\n      <td>-29.6641</td>\n      <td>22.7474</td>\n      <td>29.33</td>\n      <td>13</td>\n      <td>0</td>\n      <td>2.59</td>\n    </tr>\n    <tr>\n      <th>520</th>\n      <td>fria</td>\n      <td>GN</td>\n      <td>1612079618</td>\n      <td>10.4167</td>\n      <td>-13.5833</td>\n      <td>19.32</td>\n      <td>80</td>\n      <td>100</td>\n      <td>0.84</td>\n    </tr>\n  </tbody>\n</table>\n<p>521 rows × 9 columns</p>\n</div>"
     },
     "metadata": {},
     "execution_count": 3
    }
   ],
   "source": [
    "cities_df = cities_df.drop([\"Unnamed: 0\"], axis=1)\n",
    "cities_df"
   ]
  },
  {
   "cell_type": "code",
   "execution_count": 4,
   "metadata": {},
   "outputs": [
    {
     "output_type": "execute_result",
     "data": {
      "text/plain": [
       "               Country        Date  Latitude  Longitude  Max Temperature  \\\n",
       "City                                                                       \n",
       "burlatskoye         RU  1612079537   45.0564    43.6350             4.03   \n",
       "saint-philippe      RE  1612079537  -21.3585    55.7679            32.00   \n",
       "busselton           AU  1612079537  -33.6500   115.3333            33.33   \n",
       "karratha            AU  1612079537  -20.7377   116.8463            31.90   \n",
       "balaipungut         ID  1612079538    1.0500   101.2833            30.00   \n",
       "...                ...         ...       ...        ...              ...   \n",
       "zyryanka            RU  1612079618   65.7500   150.8500           -32.76   \n",
       "vestmannaeyjar      IS  1612079618   63.4427   -20.2734            -0.75   \n",
       "cheremukhovo        RU  1612079618   60.3484    59.9851           -18.85   \n",
       "prieska             ZA  1612079618  -29.6641    22.7474            29.33   \n",
       "fria                GN  1612079618   10.4167   -13.5833            19.32   \n",
       "\n",
       "                Humidity  Cloudiness  Wind Speed  \n",
       "City                                              \n",
       "burlatskoye           83         100        4.23  \n",
       "saint-philippe        58           0       11.83  \n",
       "busselton             43           0        4.02  \n",
       "karratha              58         100        9.21  \n",
       "balaipungut           58          40        0.45  \n",
       "...                  ...         ...         ...  \n",
       "zyryanka              84         100        7.51  \n",
       "vestmannaeyjar        92         100        7.51  \n",
       "cheremukhovo          91          97        1.16  \n",
       "prieska               13           0        2.59  \n",
       "fria                  80         100        0.84  \n",
       "\n",
       "[521 rows x 8 columns]"
      ],
      "text/html": "<div>\n<style scoped>\n    .dataframe tbody tr th:only-of-type {\n        vertical-align: middle;\n    }\n\n    .dataframe tbody tr th {\n        vertical-align: top;\n    }\n\n    .dataframe thead th {\n        text-align: right;\n    }\n</style>\n<table border=\"1\" class=\"dataframe\">\n  <thead>\n    <tr style=\"text-align: right;\">\n      <th></th>\n      <th>Country</th>\n      <th>Date</th>\n      <th>Latitude</th>\n      <th>Longitude</th>\n      <th>Max Temperature</th>\n      <th>Humidity</th>\n      <th>Cloudiness</th>\n      <th>Wind Speed</th>\n    </tr>\n    <tr>\n      <th>City</th>\n      <th></th>\n      <th></th>\n      <th></th>\n      <th></th>\n      <th></th>\n      <th></th>\n      <th></th>\n      <th></th>\n    </tr>\n  </thead>\n  <tbody>\n    <tr>\n      <th>burlatskoye</th>\n      <td>RU</td>\n      <td>1612079537</td>\n      <td>45.0564</td>\n      <td>43.6350</td>\n      <td>4.03</td>\n      <td>83</td>\n      <td>100</td>\n      <td>4.23</td>\n    </tr>\n    <tr>\n      <th>saint-philippe</th>\n      <td>RE</td>\n      <td>1612079537</td>\n      <td>-21.3585</td>\n      <td>55.7679</td>\n      <td>32.00</td>\n      <td>58</td>\n      <td>0</td>\n      <td>11.83</td>\n    </tr>\n    <tr>\n      <th>busselton</th>\n      <td>AU</td>\n      <td>1612079537</td>\n      <td>-33.6500</td>\n      <td>115.3333</td>\n      <td>33.33</td>\n      <td>43</td>\n      <td>0</td>\n      <td>4.02</td>\n    </tr>\n    <tr>\n      <th>karratha</th>\n      <td>AU</td>\n      <td>1612079537</td>\n      <td>-20.7377</td>\n      <td>116.8463</td>\n      <td>31.90</td>\n      <td>58</td>\n      <td>100</td>\n      <td>9.21</td>\n    </tr>\n    <tr>\n      <th>balaipungut</th>\n      <td>ID</td>\n      <td>1612079538</td>\n      <td>1.0500</td>\n      <td>101.2833</td>\n      <td>30.00</td>\n      <td>58</td>\n      <td>40</td>\n      <td>0.45</td>\n    </tr>\n    <tr>\n      <th>...</th>\n      <td>...</td>\n      <td>...</td>\n      <td>...</td>\n      <td>...</td>\n      <td>...</td>\n      <td>...</td>\n      <td>...</td>\n      <td>...</td>\n    </tr>\n    <tr>\n      <th>zyryanka</th>\n      <td>RU</td>\n      <td>1612079618</td>\n      <td>65.7500</td>\n      <td>150.8500</td>\n      <td>-32.76</td>\n      <td>84</td>\n      <td>100</td>\n      <td>7.51</td>\n    </tr>\n    <tr>\n      <th>vestmannaeyjar</th>\n      <td>IS</td>\n      <td>1612079618</td>\n      <td>63.4427</td>\n      <td>-20.2734</td>\n      <td>-0.75</td>\n      <td>92</td>\n      <td>100</td>\n      <td>7.51</td>\n    </tr>\n    <tr>\n      <th>cheremukhovo</th>\n      <td>RU</td>\n      <td>1612079618</td>\n      <td>60.3484</td>\n      <td>59.9851</td>\n      <td>-18.85</td>\n      <td>91</td>\n      <td>97</td>\n      <td>1.16</td>\n    </tr>\n    <tr>\n      <th>prieska</th>\n      <td>ZA</td>\n      <td>1612079618</td>\n      <td>-29.6641</td>\n      <td>22.7474</td>\n      <td>29.33</td>\n      <td>13</td>\n      <td>0</td>\n      <td>2.59</td>\n    </tr>\n    <tr>\n      <th>fria</th>\n      <td>GN</td>\n      <td>1612079618</td>\n      <td>10.4167</td>\n      <td>-13.5833</td>\n      <td>19.32</td>\n      <td>80</td>\n      <td>100</td>\n      <td>0.84</td>\n    </tr>\n  </tbody>\n</table>\n<p>521 rows × 8 columns</p>\n</div>"
     },
     "metadata": {},
     "execution_count": 4
    }
   ],
   "source": [
    "\n",
    "cities_df  = cities_df.set_index(\"City\")\n",
    "cities_df"
   ]
  },
  {
   "cell_type": "code",
   "execution_count": 5,
   "metadata": {
    "tags": [
     "outputPrepend"
    ]
   },
   "outputs": [
    {
     "output_type": "stream",
     "name": "stdout",
     "text": [
      "el</th>\n      <td>CA</td>\n      <td>1612079604</td>\n      <td>52.9999</td>\n      <td>-122.5029</td>\n      <td>-8.00</td>\n      <td>93</td>\n      <td>20</td>\n      <td>0.98</td>\n    </tr>\n    <tr>\n      <th>sao jose da coroa grande</th>\n      <td>BR</td>\n      <td>1612079604</td>\n      <td>-8.8978</td>\n      <td>-35.1478</td>\n      <td>24.85</td>\n      <td>81</td>\n      <td>89</td>\n      <td>2.63</td>\n    </tr>\n    <tr>\n      <th>rongcheng</th>\n      <td>CN</td>\n      <td>1612079604</td>\n      <td>30.6340</td>\n      <td>117.8517</td>\n      <td>10.38</td>\n      <td>74</td>\n      <td>100</td>\n      <td>1.17</td>\n    </tr>\n    <tr>\n      <th>basco</th>\n      <td>PH</td>\n      <td>1612079604</td>\n      <td>20.4487</td>\n      <td>121.9702</td>\n      <td>21.23</td>\n      <td>70</td>\n      <td>100</td>\n      <td>11.74</td>\n    </tr>\n    <tr>\n      <th>caetite</th>\n      <td>BR</td>\n      <td>1612079604</td>\n      <td>-14.0694</td>\n      <td>-42.4750</td>\n      <td>17.14</td>\n      <td>96</td>\n      <td>28</td>\n      <td>3.50</td>\n    </tr>\n    <tr>\n      <th>arman</th>\n      <td>RU</td>\n      <td>1612079604</td>\n      <td>59.7000</td>\n      <td>150.1667</td>\n      <td>-26.35</td>\n      <td>76</td>\n      <td>6</td>\n      <td>7.22</td>\n    </tr>\n    <tr>\n      <th>bilma</th>\n      <td>NE</td>\n      <td>1612079604</td>\n      <td>18.6853</td>\n      <td>12.9164</td>\n      <td>20.20</td>\n      <td>21</td>\n      <td>0</td>\n      <td>2.47</td>\n    </tr>\n    <tr>\n      <th>palmer</th>\n      <td>US</td>\n      <td>1612079605</td>\n      <td>42.1584</td>\n      <td>-72.3287</td>\n      <td>-14.00</td>\n      <td>66</td>\n      <td>1</td>\n      <td>2.57</td>\n    </tr>\n    <tr>\n      <th>tsabong</th>\n      <td>BW</td>\n      <td>1612079605</td>\n      <td>-26.0217</td>\n      <td>22.4010</td>\n      <td>29.36</td>\n      <td>42</td>\n      <td>0</td>\n      <td>3.05</td>\n    </tr>\n    <tr>\n      <th>morondava</th>\n      <td>MG</td>\n      <td>1612079397</td>\n      <td>-20.2833</td>\n      <td>44.2833</td>\n      <td>29.98</td>\n      <td>63</td>\n      <td>0</td>\n      <td>1.79</td>\n    </tr>\n    <tr>\n      <th>rio gallegos</th>\n      <td>AR</td>\n      <td>1612079605</td>\n      <td>-51.6226</td>\n      <td>-69.2181</td>\n      <td>7.00</td>\n      <td>70</td>\n      <td>0</td>\n      <td>3.60</td>\n    </tr>\n    <tr>\n      <th>san felipe</th>\n      <td>VE</td>\n      <td>1612079595</td>\n      <td>10.3399</td>\n      <td>-68.7425</td>\n      <td>20.97</td>\n      <td>89</td>\n      <td>96</td>\n      <td>1.64</td>\n    </tr>\n    <tr>\n      <th>bauchi</th>\n      <td>NG</td>\n      <td>1612079505</td>\n      <td>10.5000</td>\n      <td>10.0000</td>\n      <td>22.50</td>\n      <td>21</td>\n      <td>0</td>\n      <td>2.48</td>\n    </tr>\n    <tr>\n      <th>tazovskiy</th>\n      <td>RU</td>\n      <td>1612079605</td>\n      <td>67.4667</td>\n      <td>78.7000</td>\n      <td>-28.89</td>\n      <td>87</td>\n      <td>100</td>\n      <td>8.74</td>\n    </tr>\n    <tr>\n      <th>syracuse</th>\n      <td>IT</td>\n      <td>1612079606</td>\n      <td>37.0881</td>\n      <td>15.2792</td>\n      <td>13.89</td>\n      <td>87</td>\n      <td>40</td>\n      <td>1.54</td>\n    </tr>\n    <tr>\n      <th>guane</th>\n      <td>CU</td>\n      <td>1612079606</td>\n      <td>22.2025</td>\n      <td>-84.0875</td>\n      <td>17.79</td>\n      <td>87</td>\n      <td>92</td>\n      <td>3.42</td>\n    </tr>\n    <tr>\n      <th>dhidhdhoo</th>\n      <td>MV</td>\n      <td>1612079606</td>\n      <td>6.8833</td>\n      <td>73.1000</td>\n      <td>27.87</td>\n      <td>69</td>\n      <td>0</td>\n      <td>3.64</td>\n    </tr>\n    <tr>\n      <th>chapais</th>\n      <td>CA</td>\n      <td>1612079607</td>\n      <td>49.7834</td>\n      <td>-74.8492</td>\n      <td>-22.00</td>\n      <td>92</td>\n      <td>90</td>\n      <td>2.06</td>\n    </tr>\n    <tr>\n      <th>inhambane</th>\n      <td>MZ</td>\n      <td>1612079607</td>\n      <td>-23.8650</td>\n      <td>35.3833</td>\n      <td>31.00</td>\n      <td>66</td>\n      <td>40</td>\n      <td>4.12</td>\n    </tr>\n    <tr>\n      <th>fernie</th>\n      <td>CA</td>\n      <td>1612079607</td>\n      <td>49.5000</td>\n      <td>-115.0687</td>\n      <td>-1.00</td>\n      <td>86</td>\n      <td>100</td>\n      <td>3.09</td>\n    </tr>\n    <tr>\n      <th>te anau</th>\n      <td>NZ</td>\n      <td>1612079420</td>\n      <td>-45.4167</td>\n      <td>167.7167</td>\n      <td>12.42</td>\n      <td>80</td>\n      <td>100</td>\n      <td>2.31</td>\n    </tr>\n    <tr>\n      <th>flinders</th>\n      <td>AU</td>\n      <td>1612079607</td>\n      <td>-34.5833</td>\n      <td>150.8552</td>\n      <td>22.78</td>\n      <td>81</td>\n      <td>79</td>\n      <td>0.89</td>\n    </tr>\n    <tr>\n      <th>ahuimanu</th>\n      <td>US</td>\n      <td>1612079607</td>\n      <td>21.4447</td>\n      <td>-157.8378</td>\n      <td>23.00</td>\n      <td>68</td>\n      <td>20</td>\n      <td>6.17</td>\n    </tr>\n    <tr>\n      <th>vaitape</th>\n      <td>PF</td>\n      <td>1612079607</td>\n      <td>-16.5167</td>\n      <td>-151.7500</td>\n      <td>27.87</td>\n      <td>72</td>\n      <td>100</td>\n      <td>5.49</td>\n    </tr>\n    <tr>\n      <th>almeirim</th>\n      <td>BR</td>\n      <td>1612079364</td>\n      <td>-1.5233</td>\n      <td>-52.5817</td>\n      <td>21.78</td>\n      <td>97</td>\n      <td>37</td>\n      <td>1.06</td>\n    </tr>\n    <tr>\n      <th>paciran</th>\n      <td>ID</td>\n      <td>1612079396</td>\n      <td>-6.8767</td>\n      <td>112.3761</td>\n      <td>28.80</td>\n      <td>77</td>\n      <td>87</td>\n      <td>8.10</td>\n    </tr>\n    <tr>\n      <th>vilhena</th>\n      <td>BR</td>\n      <td>1612079363</td>\n      <td>-12.7406</td>\n      <td>-60.1458</td>\n      <td>20.25</td>\n      <td>97</td>\n      <td>100</td>\n      <td>1.92</td>\n    </tr>\n    <tr>\n      <th>dryden</th>\n      <td>CA</td>\n      <td>1612079608</td>\n      <td>49.7833</td>\n      <td>-92.7503</td>\n      <td>-5.00</td>\n      <td>93</td>\n      <td>90</td>\n      <td>3.60</td>\n    </tr>\n    <tr>\n      <th>fethiye</th>\n      <td>TR</td>\n      <td>1612079366</td>\n      <td>36.6217</td>\n      <td>29.1164</td>\n      <td>10.00</td>\n      <td>87</td>\n      <td>0</td>\n      <td>3.60</td>\n    </tr>\n    <tr>\n      <th>shenjiamen</th>\n      <td>CN</td>\n      <td>1612079367</td>\n      <td>29.9576</td>\n      <td>122.2980</td>\n      <td>12.82</td>\n      <td>81</td>\n      <td>74</td>\n      <td>6.76</td>\n    </tr>\n    <tr>\n      <th>florianopolis</th>\n      <td>BR</td>\n      <td>1612079608</td>\n      <td>-27.6146</td>\n      <td>-48.5012</td>\n      <td>26.00</td>\n      <td>89</td>\n      <td>0</td>\n      <td>1.54</td>\n    </tr>\n    <tr>\n      <th>pristen</th>\n      <td>RU</td>\n      <td>1612079608</td>\n      <td>51.2355</td>\n      <td>36.6959</td>\n      <td>1.00</td>\n      <td>100</td>\n      <td>90</td>\n      <td>7.00</td>\n    </tr>\n    <tr>\n      <th>vanimo</th>\n      <td>PG</td>\n      <td>1612079609</td>\n      <td>-2.6741</td>\n      <td>141.3028</td>\n      <td>27.94</td>\n      <td>75</td>\n      <td>47</td>\n      <td>5.34</td>\n    </tr>\n    <tr>\n      <th>igrim</th>\n      <td>RU</td>\n      <td>1612079609</td>\n      <td>63.1906</td>\n      <td>64.4162</td>\n      <td>-20.51</td>\n      <td>90</td>\n      <td>100</td>\n      <td>0.81</td>\n    </tr>\n    <tr>\n      <th>flin flon</th>\n      <td>CA</td>\n      <td>1612079609</td>\n      <td>54.7682</td>\n      <td>-101.8650</td>\n      <td>-17.34</td>\n      <td>93</td>\n      <td>45</td>\n      <td>1.49</td>\n    </tr>\n    <tr>\n      <th>vidalia</th>\n      <td>US</td>\n      <td>1612079609</td>\n      <td>32.2177</td>\n      <td>-82.4135</td>\n      <td>10.00</td>\n      <td>76</td>\n      <td>90</td>\n      <td>2.94</td>\n    </tr>\n    <tr>\n      <th>xuddur</th>\n      <td>SO</td>\n      <td>1612079609</td>\n      <td>4.1213</td>\n      <td>43.8894</td>\n      <td>29.35</td>\n      <td>29</td>\n      <td>0</td>\n      <td>8.21</td>\n    </tr>\n    <tr>\n      <th>aasiaat</th>\n      <td>GL</td>\n      <td>1612079609</td>\n      <td>68.7098</td>\n      <td>-52.8699</td>\n      <td>-19.51</td>\n      <td>91</td>\n      <td>87</td>\n      <td>2.71</td>\n    </tr>\n    <tr>\n      <th>iralaya</th>\n      <td>HN</td>\n      <td>1612079609</td>\n      <td>15.0000</td>\n      <td>-83.2333</td>\n      <td>24.55</td>\n      <td>83</td>\n      <td>21</td>\n      <td>3.75</td>\n    </tr>\n    <tr>\n      <th>de-kastri</th>\n      <td>RU</td>\n      <td>1612079610</td>\n      <td>51.4667</td>\n      <td>140.7833</td>\n      <td>-20.35</td>\n      <td>86</td>\n      <td>100</td>\n      <td>2.03</td>\n    </tr>\n    <tr>\n      <th>manokwari</th>\n      <td>ID</td>\n      <td>1612079323</td>\n      <td>-0.8667</td>\n      <td>134.0833</td>\n      <td>26.47</td>\n      <td>81</td>\n      <td>100</td>\n      <td>6.15</td>\n    </tr>\n    <tr>\n      <th>asau</th>\n      <td>RO</td>\n      <td>1612079610</td>\n      <td>46.4333</td>\n      <td>26.4000</td>\n      <td>0.00</td>\n      <td>74</td>\n      <td>75</td>\n      <td>4.63</td>\n    </tr>\n    <tr>\n      <th>villazon</th>\n      <td>BO</td>\n      <td>1612079352</td>\n      <td>-22.0866</td>\n      <td>-65.5942</td>\n      <td>10.73</td>\n      <td>74</td>\n      <td>0</td>\n      <td>1.78</td>\n    </tr>\n    <tr>\n      <th>atar</th>\n      <td>MR</td>\n      <td>1612079388</td>\n      <td>20.5169</td>\n      <td>-13.0499</td>\n      <td>17.69</td>\n      <td>27</td>\n      <td>8</td>\n      <td>3.67</td>\n    </tr>\n    <tr>\n      <th>kununurra</th>\n      <td>AU</td>\n      <td>1612079610</td>\n      <td>-15.7667</td>\n      <td>128.7333</td>\n      <td>28.00</td>\n      <td>94</td>\n      <td>75</td>\n      <td>5.66</td>\n    </tr>\n    <tr>\n      <th>amuntai</th>\n      <td>ID</td>\n      <td>1612079396</td>\n      <td>-2.4177</td>\n      <td>115.2494</td>\n      <td>31.57</td>\n      <td>62</td>\n      <td>99</td>\n      <td>1.01</td>\n    </tr>\n    <tr>\n      <th>khuzhir</th>\n      <td>RU</td>\n      <td>1612079611</td>\n      <td>53.1939</td>\n      <td>107.3397</td>\n      <td>-24.80</td>\n      <td>77</td>\n      <td>13</td>\n      <td>4.00</td>\n    </tr>\n    <tr>\n      <th>maniitsoq</th>\n      <td>GL</td>\n      <td>1612079611</td>\n      <td>65.4167</td>\n      <td>-52.9000</td>\n      <td>-12.19</td>\n      <td>75</td>\n      <td>0</td>\n      <td>2.68</td>\n    </tr>\n    <tr>\n      <th>mongagua</th>\n      <td>BR</td>\n      <td>1612079361</td>\n      <td>-24.0931</td>\n      <td>-46.6208</td>\n      <td>28.33</td>\n      <td>78</td>\n      <td>100</td>\n      <td>1.54</td>\n    </tr>\n    <tr>\n      <th>palu</th>\n      <td>ID</td>\n      <td>1612079611</td>\n      <td>-0.8917</td>\n      <td>119.8707</td>\n      <td>28.52</td>\n      <td>67</td>\n      <td>100</td>\n      <td>2.03</td>\n    </tr>\n    <tr>\n      <th>bella union</th>\n      <td>UY</td>\n      <td>1612079611</td>\n      <td>-30.2752</td>\n      <td>-57.6007</td>\n      <td>19.83</td>\n      <td>93</td>\n      <td>23</td>\n      <td>4.72</td>\n    </tr>\n    <tr>\n      <th>buluang</th>\n      <td>PH</td>\n      <td>1612079611</td>\n      <td>13.3068</td>\n      <td>123.3425</td>\n      <td>27.19</td>\n      <td>67</td>\n      <td>24</td>\n      <td>3.83</td>\n    </tr>\n    <tr>\n      <th>mukhen</th>\n      <td>RU</td>\n      <td>1612079612</td>\n      <td>48.1000</td>\n      <td>136.1000</td>\n      <td>-23.55</td>\n      <td>85</td>\n      <td>27</td>\n      <td>2.78</td>\n    </tr>\n    <tr>\n      <th>comonfort</th>\n      <td>MX</td>\n      <td>1612079391</td>\n      <td>20.7167</td>\n      <td>-100.7667</td>\n      <td>13.33</td>\n      <td>53</td>\n      <td>1</td>\n      <td>0.17</td>\n    </tr>\n    <tr>\n      <th>huarmey</th>\n      <td>PE</td>\n      <td>1612079613</td>\n      <td>-10.0681</td>\n      <td>-78.1522</td>\n      <td>21.43</td>\n      <td>75</td>\n      <td>90</td>\n      <td>4.15</td>\n    </tr>\n    <tr>\n      <th>pokaran</th>\n      <td>IN</td>\n      <td>1612079613</td>\n      <td>26.9167</td>\n      <td>71.9167</td>\n      <td>26.74</td>\n      <td>12</td>\n      <td>0</td>\n      <td>3.15</td>\n    </tr>\n    <tr>\n      <th>sur</th>\n      <td>OM</td>\n      <td>1612079389</td>\n      <td>22.5667</td>\n      <td>59.5289</td>\n      <td>24.90</td>\n      <td>40</td>\n      <td>0</td>\n      <td>2.97</td>\n    </tr>\n    <tr>\n      <th>nueva gorgona</th>\n      <td>PA</td>\n      <td>1612079613</td>\n      <td>8.5500</td>\n      <td>-79.8667</td>\n      <td>26.67</td>\n      <td>98</td>\n      <td>100</td>\n      <td>7.02</td>\n    </tr>\n    <tr>\n      <th>sechura</th>\n      <td>PE</td>\n      <td>1612079397</td>\n      <td>-5.5569</td>\n      <td>-80.8222</td>\n      <td>24.10</td>\n      <td>65</td>\n      <td>28</td>\n      <td>4.39</td>\n    </tr>\n    <tr>\n      <th>cayenne</th>\n      <td>GF</td>\n      <td>1612079561</td>\n      <td>4.9333</td>\n      <td>-52.3333</td>\n      <td>26.00</td>\n      <td>89</td>\n      <td>75</td>\n      <td>3.60</td>\n    </tr>\n    <tr>\n      <th>zhetysay</th>\n      <td>KZ</td>\n      <td>1612079614</td>\n      <td>40.7333</td>\n      <td>68.3000</td>\n      <td>14.90</td>\n      <td>30</td>\n      <td>97</td>\n      <td>6.91</td>\n    </tr>\n    <tr>\n      <th>phonhong</th>\n      <td>LA</td>\n      <td>1612079614</td>\n      <td>18.5007</td>\n      <td>102.4166</td>\n      <td>29.00</td>\n      <td>42</td>\n      <td>20</td>\n      <td>2.06</td>\n    </tr>\n    <tr>\n      <th>san policarpo</th>\n      <td>PH</td>\n      <td>1612079614</td>\n      <td>12.1791</td>\n      <td>125.5072</td>\n      <td>26.41</td>\n      <td>78</td>\n      <td>99</td>\n      <td>8.11</td>\n    </tr>\n    <tr>\n      <th>kouroussa</th>\n      <td>GN</td>\n      <td>1612079614</td>\n      <td>10.6500</td>\n      <td>-9.8833</td>\n      <td>19.24</td>\n      <td>25</td>\n      <td>13</td>\n      <td>0.09</td>\n    </tr>\n    <tr>\n      <th>la palma</th>\n      <td>US</td>\n      <td>1612079614</td>\n      <td>33.8464</td>\n      <td>-118.0467</td>\n      <td>11.67</td>\n      <td>76</td>\n      <td>1</td>\n      <td>1.82</td>\n    </tr>\n    <tr>\n      <th>anadyr</th>\n      <td>RU</td>\n      <td>1612079131</td>\n      <td>64.7500</td>\n      <td>177.4833</td>\n      <td>-20.00</td>\n      <td>84</td>\n      <td>75</td>\n      <td>9.00</td>\n    </tr>\n    <tr>\n      <th>tahta</th>\n      <td>EG</td>\n      <td>1612079372</td>\n      <td>26.7693</td>\n      <td>31.5021</td>\n      <td>13.00</td>\n      <td>44</td>\n      <td>0</td>\n      <td>2.06</td>\n    </tr>\n    <tr>\n      <th>faya</th>\n      <td>SA</td>\n      <td>1612079614</td>\n      <td>18.3851</td>\n      <td>42.4509</td>\n      <td>21.00</td>\n      <td>26</td>\n      <td>0</td>\n      <td>2.06</td>\n    </tr>\n    <tr>\n      <th>chakulia</th>\n      <td>IN</td>\n      <td>1612079615</td>\n      <td>22.4833</td>\n      <td>86.7167</td>\n      <td>23.00</td>\n      <td>18</td>\n      <td>0</td>\n      <td>2.06</td>\n    </tr>\n    <tr>\n      <th>stamford</th>\n      <td>US</td>\n      <td>1612079615</td>\n      <td>41.0534</td>\n      <td>-73.5387</td>\n      <td>-7.22</td>\n      <td>62</td>\n      <td>1</td>\n      <td>3.60</td>\n    </tr>\n    <tr>\n      <th>chimoio</th>\n      <td>MZ</td>\n      <td>1612079615</td>\n      <td>-19.1164</td>\n      <td>33.4833</td>\n      <td>26.15</td>\n      <td>78</td>\n      <td>89</td>\n      <td>1.49</td>\n    </tr>\n    <tr>\n      <th>karasjok</th>\n      <td>NO</td>\n      <td>1612079615</td>\n      <td>69.4719</td>\n      <td>25.5112</td>\n      <td>-6.00</td>\n      <td>93</td>\n      <td>90</td>\n      <td>4.12</td>\n    </tr>\n    <tr>\n      <th>pran buri</th>\n      <td>TH</td>\n      <td>1612079615</td>\n      <td>12.3847</td>\n      <td>99.9098</td>\n      <td>29.00</td>\n      <td>61</td>\n      <td>5</td>\n      <td>4.12</td>\n    </tr>\n    <tr>\n      <th>ginir</th>\n      <td>ET</td>\n      <td>1612079332</td>\n      <td>7.1333</td>\n      <td>40.7000</td>\n      <td>22.11</td>\n      <td>22</td>\n      <td>37</td>\n      <td>3.56</td>\n    </tr>\n    <tr>\n      <th>ravar</th>\n      <td>IR</td>\n      <td>1612079615</td>\n      <td>31.2656</td>\n      <td>56.8055</td>\n      <td>16.23</td>\n      <td>29</td>\n      <td>0</td>\n      <td>0.35</td>\n    </tr>\n    <tr>\n      <th>gamboma</th>\n      <td>CG</td>\n      <td>1612079615</td>\n      <td>-1.8764</td>\n      <td>15.8644</td>\n      <td>24.04</td>\n      <td>78</td>\n      <td>100</td>\n      <td>1.55</td>\n    </tr>\n    <tr>\n      <th>ust-tsilma</th>\n      <td>RU</td>\n      <td>1612079616</td>\n      <td>65.4410</td>\n      <td>52.1498</td>\n      <td>-9.65</td>\n      <td>95</td>\n      <td>99</td>\n      <td>3.97</td>\n    </tr>\n    <tr>\n      <th>kailahun</th>\n      <td>SL</td>\n      <td>1612079616</td>\n      <td>8.2833</td>\n      <td>-10.5667</td>\n      <td>21.23</td>\n      <td>91</td>\n      <td>43</td>\n      <td>0.48</td>\n    </tr>\n    <tr>\n      <th>copiapo</th>\n      <td>CL</td>\n      <td>1612079376</td>\n      <td>-27.3667</td>\n      <td>-70.3333</td>\n      <td>17.00</td>\n      <td>88</td>\n      <td>90</td>\n      <td>2.06</td>\n    </tr>\n    <tr>\n      <th>pottsville</th>\n      <td>US</td>\n      <td>1612079616</td>\n      <td>40.6857</td>\n      <td>-76.1955</td>\n      <td>-5.56</td>\n      <td>78</td>\n      <td>100</td>\n      <td>1.42</td>\n    </tr>\n    <tr>\n      <th>basti</th>\n      <td>IN</td>\n      <td>1612079616</td>\n      <td>26.8000</td>\n      <td>82.7167</td>\n      <td>20.59</td>\n      <td>33</td>\n      <td>0</td>\n      <td>2.27</td>\n    </tr>\n    <tr>\n      <th>ponta do sol</th>\n      <td>PT</td>\n      <td>1612079616</td>\n      <td>32.6667</td>\n      <td>-17.1000</td>\n      <td>13.89</td>\n      <td>75</td>\n      <td>1</td>\n      <td>1.34</td>\n    </tr>\n    <tr>\n      <th>gat</th>\n      <td>IL</td>\n      <td>1612079616</td>\n      <td>31.6100</td>\n      <td>34.7642</td>\n      <td>17.22</td>\n      <td>50</td>\n      <td>0</td>\n      <td>1.34</td>\n    </tr>\n    <tr>\n      <th>zamosc</th>\n      <td>PL</td>\n      <td>1612079617</td>\n      <td>50.7231</td>\n      <td>23.2520</td>\n      <td>-4.00</td>\n      <td>86</td>\n      <td>75</td>\n      <td>3.09</td>\n    </tr>\n    <tr>\n      <th>zyryanskoye</th>\n      <td>RU</td>\n      <td>1612079617</td>\n      <td>56.8306</td>\n      <td>86.6258</td>\n      <td>-25.25</td>\n      <td>86</td>\n      <td>92</td>\n      <td>3.53</td>\n    </tr>\n    <tr>\n      <th>moree</th>\n      <td>AU</td>\n      <td>1612079617</td>\n      <td>-29.4667</td>\n      <td>149.8500</td>\n      <td>36.00</td>\n      <td>21</td>\n      <td>32</td>\n      <td>5.66</td>\n    </tr>\n    <tr>\n      <th>stabat</th>\n      <td>ID</td>\n      <td>1612079617</td>\n      <td>3.7610</td>\n      <td>98.4513</td>\n      <td>29.00</td>\n      <td>84</td>\n      <td>75</td>\n      <td>1.54</td>\n    </tr>\n    <tr>\n      <th>srandakan</th>\n      <td>ID</td>\n      <td>1612079617</td>\n      <td>-7.9386</td>\n      <td>110.2506</td>\n      <td>29.35</td>\n      <td>68</td>\n      <td>100</td>\n      <td>3.59</td>\n    </tr>\n    <tr>\n      <th>sindor</th>\n      <td>RU</td>\n      <td>1612079618</td>\n      <td>62.8629</td>\n      <td>51.8905</td>\n      <td>-7.07</td>\n      <td>96</td>\n      <td>100</td>\n      <td>3.93</td>\n    </tr>\n    <tr>\n      <th>kishtwar</th>\n      <td>IN</td>\n      <td>1612079618</td>\n      <td>33.3167</td>\n      <td>75.7667</td>\n      <td>13.43</td>\n      <td>31</td>\n      <td>0</td>\n      <td>1.46</td>\n    </tr>\n    <tr>\n      <th>zyryanka</th>\n      <td>RU</td>\n      <td>1612079618</td>\n      <td>65.7500</td>\n      <td>150.8500</td>\n      <td>-32.76</td>\n      <td>84</td>\n      <td>100</td>\n      <td>7.51</td>\n    </tr>\n    <tr>\n      <th>vestmannaeyjar</th>\n      <td>IS</td>\n      <td>1612079618</td>\n      <td>63.4427</td>\n      <td>-20.2734</td>\n      <td>-0.75</td>\n      <td>92</td>\n      <td>100</td>\n      <td>7.51</td>\n    </tr>\n    <tr>\n      <th>cheremukhovo</th>\n      <td>RU</td>\n      <td>1612079618</td>\n      <td>60.3484</td>\n      <td>59.9851</td>\n      <td>-18.85</td>\n      <td>91</td>\n      <td>97</td>\n      <td>1.16</td>\n    </tr>\n    <tr>\n      <th>prieska</th>\n      <td>ZA</td>\n      <td>1612079618</td>\n      <td>-29.6641</td>\n      <td>22.7474</td>\n      <td>29.33</td>\n      <td>13</td>\n      <td>0</td>\n      <td>2.59</td>\n    </tr>\n    <tr>\n      <th>fria</th>\n      <td>GN</td>\n      <td>1612079618</td>\n      <td>10.4167</td>\n      <td>-13.5833</td>\n      <td>19.32</td>\n      <td>80</td>\n      <td>100</td>\n      <td>0.84</td>\n    </tr>\n  </tbody>\n</table>\n"
     ]
    }
   ],
   "source": [
    "#convert to html file\n",
    "html = cities_df.to_html()\n",
    "print(html)"
   ]
  },
  {
   "cell_type": "code",
   "execution_count": 6,
   "metadata": {},
   "outputs": [],
   "source": [
    "  \n",
    "# write html to file \n",
    "text_file = open(\"Data Table.html\", \"w\") \n",
    "text_file.write(html) \n",
    "text_file.close() "
   ]
  },
  {
   "cell_type": "code",
   "execution_count": null,
   "metadata": {},
   "outputs": [],
   "source": []
  }
 ]
}